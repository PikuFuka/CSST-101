{
  "nbformat": 4,
  "nbformat_minor": 0,
  "metadata": {
    "colab": {
      "provenance": [],
      "authorship_tag": "ABX9TyMEXRvWeLR7lCjoSUy1v5We",
      "include_colab_link": true
    },
    "kernelspec": {
      "name": "python3",
      "display_name": "Python 3"
    },
    "language_info": {
      "name": "python"
    }
  },
  "cells": [
    {
      "cell_type": "markdown",
      "metadata": {
        "id": "view-in-github",
        "colab_type": "text"
      },
      "source": [
        "<a href=\"https://colab.research.google.com/github/PikuFuka/CSST-101/blob/main/3B_SOTOMAYOR_MP2_CSST101.ipynb\" target=\"_parent\"><img src=\"https://colab.research.google.com/assets/colab-badge.svg\" alt=\"Open In Colab\"/></a>"
      ]
    },
    {
      "cell_type": "markdown",
      "source": [
        "# **1. Propositional Logic Operations:**\n",
        "\n",
        "* The AND operation returns True only if both p and q are True. If either p or q is False, the result will be False. In this case, since p is True and q is False, the result of True AND False is False.\n",
        "\n",
        "* The OR operation returns True if either p or q is True. It only returns False when both p and q are False. In this case, since p is True, the result of True OR False is True.\n",
        "\n",
        "* The NOT operation inverts the boolean value of p. If p is True, NOT p will return False, and if p is False, NOT p will return True. Here, since p is True, NOT True results in False.\n",
        "\n",
        "* The IMPLIES operation returns True unless p is True and q is False. If p is False, the implication is automatically True, regardless of q. This can be understood as: \"if p is true, then q must also be true, otherwise the implication is false.\" In this case, p = True and q = False, so the implication p -> q is False. If p were False, the implication would always be True."
      ],
      "metadata": {
        "id": "Q8mTdVE7nTVq"
      }
    },
    {
      "cell_type": "code",
      "source": [
        "def and_operation(p, q): #Logical conjunction: Returns True if both p and q are True.\n",
        "    return p and q\n",
        "\n",
        "def or_operation(p, q): #Logical disjunction: Returns True if either p or q is True.\n",
        "    return p or q\n",
        "\n",
        "def not_operation(p): #Logical negation: Returns True if p is False.\n",
        "    return not p\n",
        "\n",
        "def implies_operation(p, q): #Logical implication: Returns True if p implies q (if p is False, return True).\n",
        "    return not p or q\n",
        "\n",
        "# Example values\n",
        "p = True\n",
        "q = False\n",
        "\n",
        "print(f\"AND Operation: {and_operation(p, q)}\")        # Output: False\n",
        "print(f\"OR Operation: {or_operation(p, q)}\")          # Output: True\n",
        "print(f\"NOT Operation on p: {not_operation(p)}\")      # Output: False\n",
        "print(f\"IMPLIES Operation (p -> q): {implies_operation(p, q)}\")  # Output: False"
      ],
      "metadata": {
        "colab": {
          "base_uri": "https://localhost:8080/"
        },
        "id": "6fbjR-y2kYfb",
        "outputId": "398618d1-b433-41f3-e9ee-67f63b9eee7f"
      },
      "execution_count": 20,
      "outputs": [
        {
          "output_type": "stream",
          "name": "stdout",
          "text": [
            "AND Operation: False\n",
            "OR Operation: True\n",
            "NOT Operation on p: False\n",
            "IMPLIES Operation (p -> q): False\n"
          ]
        }
      ]
    },
    {
      "cell_type": "markdown",
      "source": [
        "# **2. Evaluate Logical Statements:**\n",
        "\n",
        "Replace Logical Symbols:\n",
        "* The function converts logical symbols from a readable format (e.g., ∧, ∨, ¬, →) into Python's logical operators (and, or, not, and →).\n",
        "\n",
        "Handle Implication:\n",
        "* The implication operator (→) is translated into a Python expression using not p or q. This conversion handles implications like \"if p then q.\"\n",
        "\n",
        "Evaluate the Statement:\n",
        "* The function uses eval to compute the logical expression. It constructs a local context dictionary from the given values (e.g., p, q, r) and evaluates the expression within this context.\n",
        "\n",
        "Error Handling:\n",
        "* It includes a try-except block to catch and raise errors if the evaluation fails."
      ],
      "metadata": {
        "id": "dng_mDeeo_oD"
      }
    },
    {
      "cell_type": "code",
      "source": [
        "def evaluate(statement, values):\n",
        "    # Replace logical symbols\n",
        "    statement = statement.replace('∧', ' and ')\n",
        "    statement = statement.replace('∨', ' or ')\n",
        "    statement = statement.replace('¬', ' not ')\n",
        "\n",
        "    # Handle implication\n",
        "    # This assumes a space around the implication operator\n",
        "    # the function breaks the statement into two parts: the left side (p) and the right side (q).\n",
        "    parts = statement.split('→')\n",
        "    if len(parts) == 2:\n",
        "        statement = f'not ({parts[0].strip()}) or ({parts[1].strip()})'\n",
        "\n",
        "    # Evaluate the statement using provided truth values\n",
        "    # Create a local context for eval\n",
        "    local_context = {key: values[key] for key in values}\n",
        "\n",
        "    # Evaluate\n",
        "    try:\n",
        "        result = eval(statement, {}, local_context)\n",
        "        return result\n",
        "    except Exception as e:\n",
        "        raise ValueError(f\"Error evaluating statement: {e}\")\n",
        "\n",
        "# Example\n",
        "values = {\n",
        "    'p': True,\n",
        "    'q': False,\n",
        "    'r': True\n",
        "}\n",
        "\n",
        "# Example logical statements\n",
        "statement1 = \"p ∧ q\"          # Should evaluate to False\n",
        "statement2 = \"p ∨ r\"          # Should evaluate to True\n",
        "statement3 = \"¬p → q\"         # Should evaluate to False\n",
        "statement4 = \"p → (q ∨ r)\"    # Should evaluate to True\n",
        "\n",
        "print(f\"Evaluating '{statement1}': {evaluate(statement1, values)}\")\n",
        "print(f\"Evaluating '{statement2}': {evaluate(statement2, values)}\")\n",
        "print(f\"Evaluating '{statement3}': {evaluate(statement3, values)}\")\n",
        "print(f\"Evaluating '{statement4}': {evaluate(statement4, values)}\")"
      ],
      "metadata": {
        "colab": {
          "base_uri": "https://localhost:8080/"
        },
        "id": "-PBwaX3zpBle",
        "outputId": "a2bd98e3-f479-4fee-f084-8229b69a4944"
      },
      "execution_count": 35,
      "outputs": [
        {
          "output_type": "stream",
          "name": "stdout",
          "text": [
            "Evaluating 'p ∧ q': False\n",
            "Evaluating 'p ∨ r': True\n",
            "Evaluating '¬p → q': True\n",
            "Evaluating 'p → (q ∨ r)': True\n"
          ]
        }
      ]
    },
    {
      "cell_type": "markdown",
      "source": [
        "# **3. Extend to Predicate Logic:**\n",
        "\n",
        "Functions Explanation\n",
        "\n",
        "forall(predicate, domain)\n",
        "\n",
        "* Purpose: Checks if a given predicate (function) is true for every element in the specified domain (list).\n",
        "\n",
        "How it works:\n",
        "* Iterates through each element in the domain.\n",
        "* Applies the predicate to each element.\n",
        "* Returns True if the predicate returns True for all elements; otherwise, returns False.\n",
        "\n",
        "exists(predicate, domain)\n",
        "\n",
        "* Purpose: Checks if there is at least one element in the specified domain for which the predicate (function) is true.\n",
        "\n",
        "How it works:\n",
        "* Iterates through each element in the domain.\n",
        "* Applies the predicate to each element.\n",
        "* Returns True if the predicate returns True for at least one element; otherwise, returns False."
      ],
      "metadata": {
        "id": "sYizjAl8xPaq"
      }
    },
    {
      "cell_type": "code",
      "source": [
        "def forall(predicate, domain):\n",
        "    \"\"\"\n",
        "    Evaluates a universal quantification over the given domain.\n",
        "    Returns True if the predicate is True for all elements in the domain.\n",
        "    \"\"\"\n",
        "    for x in domain:\n",
        "        if not predicate(x):\n",
        "            return False\n",
        "    return True\n",
        "\n",
        "def exists(predicate, domain):\n",
        "    \"\"\"\n",
        "    Evaluates an existential quantification over the given domain.\n",
        "    Returns True if there exists at least one element in the domain\n",
        "    for which the predicate is True.\n",
        "    \"\"\"\n",
        "    for x in domain:\n",
        "        if predicate(x):\n",
        "            return True\n",
        "    return False\n",
        "\n",
        "# Example\n",
        "def greater_than_3(x):\n",
        "    return x > 3\n",
        "\n",
        "def even(x):\n",
        "    return x % 2 == 0\n",
        "\n",
        "# Example\n",
        "numbers = [1, 2, 3, 4, 5, 6, 7, 8, 9, 10]\n",
        "even_numbers = [2, 4, 6, 8, 10]\n",
        "\n",
        "# Evaluating quantified statements\n",
        "print(forall(greater_than_3, numbers))  # Output: False\n",
        "print(forall(greater_than_3, [4, 5, 6, 7, 8, 9, 10]))  # Output: True\n",
        "print(exists(greater_than_3, numbers))  # Output: True\n",
        "print(exists(even, numbers))  # Output: True\n",
        "print(forall(even, numbers))  # Output: False\n",
        "print(forall(even, even_numbers))  # Output: True"
      ],
      "metadata": {
        "colab": {
          "base_uri": "https://localhost:8080/"
        },
        "id": "iyTXg72axPxL",
        "outputId": "dd8af78a-bd14-4121-a757-ba022134f8ba"
      },
      "execution_count": 36,
      "outputs": [
        {
          "output_type": "stream",
          "name": "stdout",
          "text": [
            "False\n",
            "True\n",
            "True\n",
            "True\n",
            "False\n",
            "True\n"
          ]
        }
      ]
    },
    {
      "cell_type": "markdown",
      "source": [
        "# **4. AI Agent Development:**\n",
        "\n",
        "The SmartHomeAgent adjusts the thermostat, lights, and security system based on the conditions in each scenario, automating common tasks in a smart home. Each device behaves logically according to the environment and whether someone is present in the home. This simulation showcases how a smart home agent could use basic decision-making rules to manage a home efficiently.\n",
        "\n"
      ],
      "metadata": {
        "id": "bt9-VyYyzR88"
      }
    },
    {
      "cell_type": "code",
      "source": [
        "class SmartHomeAgent:\n",
        "    def __init__(self):\n",
        "        self.temperature = 70  # Default temperature\n",
        "        self.is_home = False    # Is someone home?\n",
        "        self.is_night = False    # Is it night?\n",
        "        self.lights_on = False    # Are lights on?\n",
        "        self.security_activated = False  # Is security activated?\n",
        "\n",
        "    def update_environment(self, temperature, is_home, is_night):\n",
        "        self.temperature = temperature\n",
        "        self.is_home = is_home\n",
        "        self.is_night = is_night\n",
        "\n",
        "    def control_devices(self):\n",
        "        # Control thermostat\n",
        "        if self.is_home:\n",
        "            if self.temperature > 75:\n",
        "                print(\"Turning on air conditioning.\")\n",
        "            elif self.temperature < 68:\n",
        "                print(\"Turning on heating.\")\n",
        "            else:\n",
        "                print(\"Temperature is comfortable.\")\n",
        "        else:\n",
        "            print(\"No one is home; thermostat remains off.\")\n",
        "\n",
        "        # Control lights\n",
        "        if self.is_night and self.is_home:\n",
        "            if not self.lights_on:\n",
        "                print(\"Turning on lights.\")\n",
        "                self.lights_on = True\n",
        "            else:\n",
        "                print(\"Lights are already on.\")\n",
        "        elif not self.is_night and self.lights_on:\n",
        "            print(\"Turning off lights.\")\n",
        "            self.lights_on = False\n",
        "\n",
        "        # Control security system\n",
        "        if not self.is_home:\n",
        "            if not self.security_activated:\n",
        "                print(\"Activating security system.\")\n",
        "                self.security_activated = True\n",
        "            else:\n",
        "                print(\"Security system already activated.\")\n",
        "        else:\n",
        "            if self.security_activated:\n",
        "                print(\"Deactivating security system.\")\n",
        "                self.security_activated = False\n",
        "\n",
        "# Example Usage\n",
        "def simulate_smart_home():\n",
        "    agent = SmartHomeAgent()\n",
        "\n",
        "    # Simulate different scenarios\n",
        "    scenarios = [\n",
        "        (72, True, False),   # Comfortable temperature, someone home, day\n",
        "        (78, True, False),   # Hot temperature, someone home, day\n",
        "        (65, True, True),    # Cold temperature, someone home, night\n",
        "        (70, False, True),   # Comfortable temperature, no one home, night\n",
        "        (80, False, False),  # Hot temperature, no one home, day\n",
        "    ]\n",
        "\n",
        "    for temp, home_status, night_status in scenarios:\n",
        "        print(f\"\\nUpdating environment: Temp={temp}, Home={home_status}, Night={night_status}\")\n",
        "        agent.update_environment(temp, home_status, night_status)\n",
        "        agent.control_devices()\n",
        "\n",
        "simulate_smart_home()"
      ],
      "metadata": {
        "colab": {
          "base_uri": "https://localhost:8080/"
        },
        "id": "6crZKfDxzVZH",
        "outputId": "a22bc210-8e68-48d9-ed41-172af91a4970"
      },
      "execution_count": 93,
      "outputs": [
        {
          "output_type": "stream",
          "name": "stdout",
          "text": [
            "\n",
            "Updating environment: Temp=72, Home=True, Night=False\n",
            "Temperature is comfortable.\n",
            "\n",
            "Updating environment: Temp=78, Home=True, Night=False\n",
            "Turning on air conditioning.\n",
            "\n",
            "Updating environment: Temp=65, Home=True, Night=True\n",
            "Turning on heating.\n",
            "Turning on lights.\n",
            "\n",
            "Updating environment: Temp=70, Home=False, Night=True\n",
            "No one is home; thermostat remains off.\n",
            "Activating security system.\n",
            "\n",
            "Updating environment: Temp=80, Home=False, Night=False\n",
            "No one is home; thermostat remains off.\n",
            "Turning off lights.\n",
            "Security system already activated.\n"
          ]
        }
      ]
    }
  ]
}