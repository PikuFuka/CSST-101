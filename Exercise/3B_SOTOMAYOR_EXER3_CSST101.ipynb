{
  "nbformat": 4,
  "nbformat_minor": 0,
  "metadata": {
    "colab": {
      "provenance": []
    },
    "kernelspec": {
      "name": "python3",
      "display_name": "Python 3"
    },
    "language_info": {
      "name": "python"
    }
  },
  "cells": [
    {
      "cell_type": "markdown",
      "source": [
        "# **Part 1: Defining the problem and system design**"
      ],
      "metadata": {
        "id": "ZRWrMggtEmeY"
      }
    },
    {
      "cell_type": "markdown",
      "source": [
        "**1. Select a disease for diagnosis**"
      ],
      "metadata": {
        "id": "iulqIdPZH2eg"
      }
    },
    {
      "cell_type": "markdown",
      "source": [
        "**Disease**: Diabetes\n",
        "\n",
        "**Contributing factor**: Glucose, BloodPressure, Insulin, BMI"
      ],
      "metadata": {
        "id": "PuGm7140Ewa1"
      }
    },
    {
      "cell_type": "markdown",
      "source": [
        "# **Part 2: Basic Probability Calculations**"
      ],
      "metadata": {
        "id": "p_qfTJAHHYO_"
      }
    },
    {
      "cell_type": "markdown",
      "source": [
        "**2. Bayesian inference calculation**"
      ],
      "metadata": {
        "id": "gXHqzkLCHvZp"
      }
    },
    {
      "cell_type": "code",
      "execution_count": null,
      "metadata": {
        "colab": {
          "base_uri": "https://localhost:8080/"
        },
        "id": "UgdELw7uCXXn",
        "outputId": "22c0abca-6b31-4fac-8a36-107cb7c272d8"
      },
      "outputs": [
        {
          "output_type": "stream",
          "name": "stdout",
          "text": [
            "0.32\n"
          ]
        }
      ],
      "source": [
        "priorpro = 0.02\n",
        "testsen = 0.95\n",
        "falseposirate = 0.05\n",
        "propositive = 0.06\n",
        "\n",
        "bayes = testsen * priorpro / propositive\n",
        "print(\"{:.2f}\".format(bayes))"
      ]
    },
    {
      "cell_type": "markdown",
      "source": [
        "**Posterior probability: 0.32**"
      ],
      "metadata": {
        "id": "d_FqDovgHmlz"
      }
    },
    {
      "cell_type": "markdown",
      "source": [
        "# **Part 3: Decision-making Simulation**"
      ],
      "metadata": {
        "id": "1shnH5mlIMlW"
      }
    },
    {
      "cell_type": "markdown",
      "source": [
        "**3. Simulate a decision with uncertain outcomes**"
      ],
      "metadata": {
        "id": "AL8wGTteIVy6"
      }
    },
    {
      "cell_type": "code",
      "source": [
        "treatment = 0.7\n",
        "benefit = 100\n",
        "failure = 0.3\n",
        "loss = -50\n",
        "\n",
        "EHI = treatment * benefit + failure * loss\n",
        "print(\"{:.2f}\".format(EHI))"
      ],
      "metadata": {
        "colab": {
          "base_uri": "https://localhost:8080/"
        },
        "id": "Q5Y2_h_yIbx0",
        "outputId": "3c328104-8779-4e61-a8c5-20c05c750749"
      },
      "execution_count": null,
      "outputs": [
        {
          "output_type": "stream",
          "name": "stdout",
          "text": [
            "55.00\n"
          ]
        }
      ]
    },
    {
      "cell_type": "markdown",
      "source": [
        "**Expected improvement: 55.00**"
      ],
      "metadata": {
        "id": "THQm28TTLUhL"
      }
    },
    {
      "cell_type": "markdown",
      "source": [
        "# **Part 4: Visualize a probability distribution**"
      ],
      "metadata": {
        "id": "TNQcw19uLed3"
      }
    },
    {
      "cell_type": "markdown",
      "source": [
        "**4. Visualize a binomial distribution**"
      ],
      "metadata": {
        "id": "9AZ_yEx6Ln4v"
      }
    },
    {
      "cell_type": "code",
      "source": [
        "import matplotlib.pyplot as plt\n",
        "from scipy.stats import binom\n",
        "\n",
        "n = 5  # Number of trials (coin flips)\n",
        "p = 0.5  # Probability of success (getting a head)\n",
        "\n",
        "x = range(1, 6)\n",
        "pmf = binom.pmf(x, n, p)\n",
        "\n",
        "plt.bar(x, pmf)\n",
        "plt.xlabel(\"Number of Heads\")\n",
        "plt.ylabel(\"Probability\")\n",
        "plt.title(\"Binomial Distribution (n=5, p=0.5)\")\n",
        "plt.xticks(x)\n",
        "plt.show()\n"
      ],
      "metadata": {
        "colab": {
          "base_uri": "https://localhost:8080/",
          "height": 472
        },
        "id": "HAf7txJdLvKe",
        "outputId": "ff835b08-bebc-45b9-8120-6624dbd5b0ed"
      },
      "execution_count": null,
      "outputs": [
        {
          "output_type": "display_data",
          "data": {
            "text/plain": [
              "<Figure size 640x480 with 1 Axes>"
            ],
            "image/png": "[encoded data removed]"
          },
          "metadata": {}
        }
      ]
    },
    {
      "cell_type": "markdown",
      "source": [
        "# **Reflection question:**"
      ],
      "metadata": {
        "id": "SbuzVK9ZOmdE"
      }
    },
    {
      "cell_type": "markdown",
      "source": [
        "Understanding probability theory is crucial in medical diagnosis systems as it enables healthcare professionals to quantify the uncertainty associated with various diagnoses. By applying frameworks such as Bayes' theorem, clinicians can update their beliefs about a patient's condition based on new evidence, allowing for more informed decision-making regarding testing and treatment options. Furthermore, probability thresholds help define when to initiate treatment or further investigation, thereby optimizing patient management and minimizing unnecessary risks."
      ],
      "metadata": {
        "id": "kM5VZ5h8O02a"
      }
    }
  ]
}