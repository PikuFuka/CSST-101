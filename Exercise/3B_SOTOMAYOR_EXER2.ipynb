{
  "cells": [
    {
      "cell_type": "markdown",
      "metadata": {
        "id": "view-in-github",
        "colab_type": "text"
      },
      "source": [
        "<a href=\"https://colab.research.google.com/github/PikuFuka/CSST-101/blob/main/3B_SOTOMAYOR_EXER2.ipynb\" target=\"_parent\"><img src=\"https://colab.research.google.com/assets/colab-badge.svg\" alt=\"Open In Colab\"/></a>"
      ]
    },
    {
      "cell_type": "markdown",
      "metadata": {
        "id": "a8GTtJOa3HuT"
      },
      "source": [
        "# **Exercise 1: Introduction to Probability Theory in AI**"
      ]
    },
    {
      "cell_type": "code",
      "execution_count": 93,
      "metadata": {
        "colab": {
          "base_uri": "https://localhost:8080/"
        },
        "id": "LjZJ-w3b2uDG",
        "outputId": "8c0eb96f-20c1-4d95-ef71-b71799401c0e"
      },
      "outputs": [
        {
          "output_type": "stream",
          "name": "stdout",
          "text": [
            "Joint probability: 0.12\n",
            "Marginal probability: 0.58\n",
            "Conditional probability: 0.6\n"
          ]
        }
      ],
      "source": [
        "def joint_probability(p_A, p_B):\n",
        "  return p_A * p_B\n",
        "\n",
        "def marginal_probability(p_A, p_B):\n",
        "  return p_A + p_B - joint_probability(p_A, p_B)\n",
        "\n",
        "def conditional_probability(p_B_given_A, p_A, p_B):\n",
        "  return (p_B_given_A * p_A) / p_B\n",
        "\n",
        "p_A = 0.3\n",
        "p_B = 0.4\n",
        "p_B_given_A = 0.8\n",
        "\n",
        "print(f\"Joint probability: {joint_probability(p_A, p_B)}\")\n",
        "print(f\"Marginal probability: {marginal_probability(p_A, p_B)}\")\n",
        "print(f\"Conditional probability: {conditional_probability(p_B_given_A, p_A, p_B)}\")\n"
      ]
    },
    {
      "cell_type": "markdown",
      "metadata": {
        "id": "X9VWJEbv5EVM"
      },
      "source": [
        "**Assessment Task 1: Basic Probability Calculations**"
      ]
    },
    {
      "cell_type": "code",
      "source": [
        "def conditional_probability1(p_A, p_B):\n",
        "  return p_A / p_B\n",
        "\n",
        "p_A = 0.3\n",
        "p_B = 0.4\n",
        "\n",
        "joint = joint_probability(p_A, p_B)\n",
        "marginal = marginal_probability(p_A, p_B)\n",
        "conditional = conditional_probability1(p_A, p_B)\n",
        "\n",
        "print(f\"Joint probability: {joint}\")\n",
        "print(f\"Marginal probability: {marginal}\")\n",
        "print(f\"Conditional probability: {conditional}\")"
      ],
      "metadata": {
        "colab": {
          "base_uri": "https://localhost:8080/"
        },
        "id": "0RLjo_d0SxA2",
        "outputId": "97d3f40f-7736-4435-b64f-5f0e795132c1"
      },
      "execution_count": 94,
      "outputs": [
        {
          "output_type": "stream",
          "name": "stdout",
          "text": [
            "Joint probability: 0.12\n",
            "Marginal probability: 0.58\n",
            "Conditional probability: 0.7499999999999999\n"
          ]
        }
      ]
    },
    {
      "cell_type": "markdown",
      "source": [],
      "metadata": {
        "id": "qa1EDaOjT2yt"
      }
    },
    {
      "cell_type": "markdown",
      "source": [
        "# **Exercise 2: Decision-Making Under Uncertainty**"
      ],
      "metadata": {
        "id": "LRKkRdsXT-CB"
      }
    },
    {
      "cell_type": "markdown",
      "source": [
        "**Assessment Task 2: Bayesian Inference**"
      ],
      "metadata": {
        "id": "6mXx7eplVbit"
      }
    },
    {
      "cell_type": "code",
      "source": [
        "def bayesian(population, posres, test_positive):\n",
        "  diseasetest = (posres * population) / test_positive\n",
        "  return diseasetest\n",
        "\n",
        "prior_popu = 0.01\n",
        "posres = 0.9\n",
        "test_positive = 0.05\n",
        "\n",
        "bayes = bayesian(prior_popu, posres, test_positive)\n",
        "print(f\"Probability of having the disease given a positive test result: {bayes:2f}\")"
      ],
      "metadata": {
        "colab": {
          "base_uri": "https://localhost:8080/"
        },
        "id": "YJAlRw8fVeiz",
        "outputId": "f6028d5b-81a5-46bd-9cd6-06040c882cb8"
      },
      "execution_count": 86,
      "outputs": [
        {
          "output_type": "stream",
          "name": "stdout",
          "text": [
            "Probability of having the disease given a positive test result: 0.180000\n"
          ]
        }
      ]
    },
    {
      "cell_type": "markdown",
      "source": [
        "**Feedback:** With the given data the probability of having the disease given a positive test result is 0.18."
      ],
      "metadata": {
        "id": "K7hCAvMSWpEa"
      }
    },
    {
      "cell_type": "markdown",
      "source": [
        "# **Exercise 3: Applying Probability Theory in AI for Diagnosis**"
      ],
      "metadata": {
        "id": "_sIIKV9lW3my"
      }
    },
    {
      "cell_type": "markdown",
      "source": [
        "**Assessment Task 3: Decision-Making Under Uncertainty**"
      ],
      "metadata": {
        "id": "xpgHY3HoW6zq"
      }
    },
    {
      "cell_type": "code",
      "source": [
        "import numpy as np\n",
        "\n",
        "def investment_simulation(iterations, success_probability, reward_success, loss_failure):\n",
        "  total_profit = []\n",
        "  for _ in range(iterations):\n",
        "    if np.random.rand() < success_probability:\n",
        "      total_profit.append(reward_success)\n",
        "    else:\n",
        "      total_profit.append(loss_failure)\n",
        "  return np.mean(total_profit)\n",
        "\n",
        "# Example usage:\n",
        "iterations = 1000\n",
        "success_probability = 0.7\n",
        "reward_success = 100\n",
        "loss_failure = -50\n",
        "\n",
        "average_total_profit = investment_simulation(iterations, success_probability, reward_success, loss_failure)\n",
        "print(f\"Expected value of decision: {average_total_profit}\")"
      ],
      "metadata": {
        "colab": {
          "base_uri": "https://localhost:8080/"
        },
        "id": "drbZn8emXBPP",
        "outputId": "dc37c466-0752-4728-88ff-0ceb0ba0220b"
      },
      "execution_count": 87,
      "outputs": [
        {
          "output_type": "stream",
          "name": "stdout",
          "text": [
            "Expected value of decision: 57.7\n"
          ]
        }
      ]
    },
    {
      "cell_type": "markdown",
      "source": [
        "**Feedback:** The average return after 1000 iteration is 53.65. It will give you different result, it can give you higher or lower."
      ],
      "metadata": {
        "id": "oTxyp8b7Yo9g"
      }
    },
    {
      "cell_type": "markdown",
      "source": [
        "# **Exercise 4: Probability Distribution in AI**"
      ],
      "metadata": {
        "id": "WB-6YdEhZ02y"
      }
    },
    {
      "cell_type": "code",
      "source": [
        "p_purchase_given_cart = 0.4\n",
        "p_cart = 0.3\n",
        "\n",
        "p_purchase = conditional_probability(p_purchase_given_cart, p_cart, 1)\n",
        "print(f\"Probability of purchasing a product given a cart: {p_purchase}\")"
      ],
      "metadata": {
        "colab": {
          "base_uri": "https://localhost:8080/"
        },
        "id": "KQ1Z9PF_gpft",
        "outputId": "88b4ed19-b5b4-4131-897b-e22f1856ba31"
      },
      "execution_count": 88,
      "outputs": [
        {
          "output_type": "stream",
          "name": "stdout",
          "text": [
            "Probability of purchasing a product given a cart: 0.12\n"
          ]
        }
      ]
    },
    {
      "cell_type": "markdown",
      "source": [
        "**Assessment Task 4: Real-World Scenario**"
      ],
      "metadata": {
        "id": "t2uEN_vwituu"
      }
    },
    {
      "cell_type": "code",
      "source": [
        "humidity = 0.5\n",
        "cloud_cover = 0.9\n",
        "\n",
        "rainpro = conditional_probability(humidity, cloud_cover, 1)\n",
        "print(f\"The chances of raining is: {rainpro}\")"
      ],
      "metadata": {
        "colab": {
          "base_uri": "https://localhost:8080/"
        },
        "id": "IQxhLHzOiwcJ",
        "outputId": "6f4a675a-19a6-49d7-d448-1853508d58fa"
      },
      "execution_count": 89,
      "outputs": [
        {
          "output_type": "stream",
          "name": "stdout",
          "text": [
            "The chances of raining is: 0.45\n"
          ]
        }
      ]
    },
    {
      "cell_type": "markdown",
      "source": [
        "**Feedback:** With humidity of 0.5 and cloud cover of 0.9 the chances of raining is 0.45."
      ],
      "metadata": {
        "id": "b0YPTY0kk5RR"
      }
    },
    {
      "cell_type": "markdown",
      "source": [
        "# **Exercise 5: Real-World Application of Probability in AI**"
      ],
      "metadata": {
        "id": "7J1Zo_wQhKaY"
      }
    },
    {
      "cell_type": "code",
      "source": [
        "import numpy as np\n",
        "import matplotlib.pyplot as plt\n",
        "\n",
        "n_trials = 1000\n",
        "p_head = 0.5\n",
        "binomial_distribution = np.random.binomial(n=1, p=p_head, size=n_trials)\n",
        "\n",
        "plt.hist(binomial_distribution, bins=2)\n",
        "plt.xlabel('Number of Heads')\n",
        "plt.ylabel('Frequency')\n",
        "plt.title('Binomial Distribution')\n",
        "plt.show()"
      ],
      "metadata": {
        "colab": {
          "base_uri": "https://localhost:8080/",
          "height": 472
        },
        "id": "ImKXKjXZZ4Lo",
        "outputId": "9193d4f2-c9ff-4150-f763-f66a0b3c057b"
      },
      "execution_count": 90,
      "outputs": [
        {
          "output_type": "display_data",
          "data": {
            "text/plain": [
              "<Figure size 640x480 with 1 Axes>"
            ],
            "image/png": "[encoded data removed]"
          },
          "metadata": {}
        }
      ]
    },
    {
      "cell_type": "markdown",
      "source": [
        "**Assessment Task 5: Probability Distributions Visualization**"
      ],
      "metadata": {
        "id": "Xt79FUHdhOve"
      }
    },
    {
      "cell_type": "code",
      "source": [
        "n_trials = 1000\n",
        "p_head = 0.5\n",
        "binomial_distribution = np.random.binomial(n=1, p=p_head, size=n_trials)\n",
        "\n",
        "plt.hist(binomial_distribution, bins=2)\n",
        "plt.xlabel('Number of Heads')\n",
        "plt.ylabel('Frequency')\n",
        "plt.title('Binomial Distribution')\n",
        "plt.show()"
      ],
      "metadata": {
        "colab": {
          "base_uri": "https://localhost:8080/",
          "height": 472
        },
        "id": "oxo-WNHqhSlS",
        "outputId": "3e21ec93-be89-4089-c569-51d21c0da845"
      },
      "execution_count": 91,
      "outputs": [
        {
          "output_type": "display_data",
          "data": {
            "text/plain": [
              "<Figure size 640x480 with 1 Axes>"
            ],
            "image/png": "[encoded data removed]"
          },
          "metadata": {}
        }
      ]
    },
    {
      "cell_type": "code",
      "source": [
        "import numpy as np\n",
        "import matplotlib.pyplot as plt\n",
        "\n",
        "n_trials = 1000\n",
        "p_head = 0.5\n",
        "binomial_distribution = np.random.binomial(n=1, p=p_head, size=n_trials)\n",
        "\n",
        "plt.hist(binomial_distribution, bins=2)\n",
        "plt.xlabel('Number of Heads')\n",
        "plt.ylabel('Frequency')\n",
        "plt.title('Binomial Distribution')\n",
        "plt.show()"
      ],
      "metadata": {
        "colab": {
          "base_uri": "https://localhost:8080/",
          "height": 472
        },
        "id": "FiRUYEuilmwN",
        "outputId": "3bfdef71-e8ef-4e40-b608-0fa325acc608"
      },
      "execution_count": 92,
      "outputs": [
        {
          "output_type": "display_data",
          "data": {
            "text/plain": [
              "<Figure size 640x480 with 1 Axes>"
            ],
            "image/png": "[encoded data removed]"
          },
          "metadata": {}
        }
      ]
    }
  ],
  "metadata": {
    "colab": {
      "provenance": [],
      "collapsed_sections": [
        "a8GTtJOa3HuT",
        "LRKkRdsXT-CB",
        "_sIIKV9lW3my",
        "WB-6YdEhZ02y"
      ],
      "authorship_tag": "ABX9TyM03gEyLI2H3wsyXgdFaRQ7",
      "include_colab_link": true
    },
    "kernelspec": {
      "display_name": "Python 3",
      "name": "python3"
    },
    "language_info": {
      "name": "python"
    }
  },
  "nbformat": 4,
  "nbformat_minor": 0
}