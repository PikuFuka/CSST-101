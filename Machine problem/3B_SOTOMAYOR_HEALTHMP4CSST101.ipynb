{
  "nbformat": 4,
  "nbformat_minor": 0,
  "metadata": {
    "colab": {
      "provenance": []
    },
    "kernelspec": {
      "name": "python3",
      "display_name": "Python 3"
    },
    "language_info": {
      "name": "python"
    }
  },
  "cells": [
    {
      "cell_type": "markdown",
      "source": [
        "# **Exercise 1: Setting Up the Environment**"
      ],
      "metadata": {
        "id": "UOUnhlYjZbVd"
      }
    },
    {
      "cell_type": "markdown",
      "source": [
        "**1. Install Libraries:**"
      ],
      "metadata": {
        "id": "kV939DloZWSn"
      }
    },
    {
      "cell_type": "code",
      "execution_count": 57,
      "metadata": {
        "colab": {
          "base_uri": "https://localhost:8080/"
        },
        "id": "811bXqkrWkq-",
        "outputId": "60f2a931-b814-40fc-eb6e-624d6b5754f1"
      },
      "outputs": [
        {
          "output_type": "stream",
          "name": "stdout",
          "text": [
            "Requirement already satisfied: pgmpy in /usr/local/lib/python3.10/dist-packages (0.1.26)\n",
            "Requirement already satisfied: networkx in /usr/local/lib/python3.10/dist-packages (from pgmpy) (3.4.1)\n",
            "Requirement already satisfied: numpy in /usr/local/lib/python3.10/dist-packages (from pgmpy) (1.26.4)\n",
            "Requirement already satisfied: scipy in /usr/local/lib/python3.10/dist-packages (from pgmpy) (1.13.1)\n",
            "Requirement already satisfied: scikit-learn in /usr/local/lib/python3.10/dist-packages (from pgmpy) (1.5.2)\n",
            "Requirement already satisfied: pandas in /usr/local/lib/python3.10/dist-packages (from pgmpy) (2.2.2)\n",
            "Requirement already satisfied: pyparsing in /usr/local/lib/python3.10/dist-packages (from pgmpy) (3.2.0)\n",
            "Requirement already satisfied: torch in /usr/local/lib/python3.10/dist-packages (from pgmpy) (2.4.1+cu121)\n",
            "Requirement already satisfied: statsmodels in /usr/local/lib/python3.10/dist-packages (from pgmpy) (0.14.4)\n",
            "Requirement already satisfied: tqdm in /usr/local/lib/python3.10/dist-packages (from pgmpy) (4.66.5)\n",
            "Requirement already satisfied: joblib in /usr/local/lib/python3.10/dist-packages (from pgmpy) (1.4.2)\n",
            "Requirement already satisfied: opt-einsum in /usr/local/lib/python3.10/dist-packages (from pgmpy) (3.4.0)\n",
            "Requirement already satisfied: xgboost in /usr/local/lib/python3.10/dist-packages (from pgmpy) (2.1.1)\n",
            "Requirement already satisfied: google-generativeai in /usr/local/lib/python3.10/dist-packages (from pgmpy) (0.8.3)\n",
            "Requirement already satisfied: google-ai-generativelanguage==0.6.10 in /usr/local/lib/python3.10/dist-packages (from google-generativeai->pgmpy) (0.6.10)\n",
            "Requirement already satisfied: google-api-core in /usr/local/lib/python3.10/dist-packages (from google-generativeai->pgmpy) (2.19.2)\n",
            "Requirement already satisfied: google-api-python-client in /usr/local/lib/python3.10/dist-packages (from google-generativeai->pgmpy) (2.137.0)\n",
            "Requirement already satisfied: google-auth>=2.15.0 in /usr/local/lib/python3.10/dist-packages (from google-generativeai->pgmpy) (2.27.0)\n",
            "Requirement already satisfied: protobuf in /usr/local/lib/python3.10/dist-packages (from google-generativeai->pgmpy) (3.20.3)\n",
            "Requirement already satisfied: pydantic in /usr/local/lib/python3.10/dist-packages (from google-generativeai->pgmpy) (2.9.2)\n",
            "Requirement already satisfied: typing-extensions in /usr/local/lib/python3.10/dist-packages (from google-generativeai->pgmpy) (4.12.2)\n",
            "Requirement already satisfied: proto-plus<2.0.0dev,>=1.22.3 in /usr/local/lib/python3.10/dist-packages (from google-ai-generativelanguage==0.6.10->google-generativeai->pgmpy) (1.24.0)\n",
            "Requirement already satisfied: python-dateutil>=2.8.2 in /usr/local/lib/python3.10/dist-packages (from pandas->pgmpy) (2.8.2)\n",
            "Requirement already satisfied: pytz>=2020.1 in /usr/local/lib/python3.10/dist-packages (from pandas->pgmpy) (2024.2)\n",
            "Requirement already satisfied: tzdata>=2022.7 in /usr/local/lib/python3.10/dist-packages (from pandas->pgmpy) (2024.2)\n",
            "Requirement already satisfied: threadpoolctl>=3.1.0 in /usr/local/lib/python3.10/dist-packages (from scikit-learn->pgmpy) (3.5.0)\n",
            "Requirement already satisfied: patsy>=0.5.6 in /usr/local/lib/python3.10/dist-packages (from statsmodels->pgmpy) (0.5.6)\n",
            "Requirement already satisfied: packaging>=21.3 in /usr/local/lib/python3.10/dist-packages (from statsmodels->pgmpy) (24.1)\n",
            "Requirement already satisfied: filelock in /usr/local/lib/python3.10/dist-packages (from torch->pgmpy) (3.16.1)\n",
            "Requirement already satisfied: sympy in /usr/local/lib/python3.10/dist-packages (from torch->pgmpy) (1.13.3)\n",
            "Requirement already satisfied: jinja2 in /usr/local/lib/python3.10/dist-packages (from torch->pgmpy) (3.1.4)\n",
            "Requirement already satisfied: fsspec in /usr/local/lib/python3.10/dist-packages (from torch->pgmpy) (2024.6.1)\n",
            "Requirement already satisfied: nvidia-nccl-cu12 in /usr/local/lib/python3.10/dist-packages (from xgboost->pgmpy) (2.23.4)\n",
            "Requirement already satisfied: googleapis-common-protos<2.0.dev0,>=1.56.2 in /usr/local/lib/python3.10/dist-packages (from google-api-core->google-generativeai->pgmpy) (1.65.0)\n",
            "Requirement already satisfied: requests<3.0.0.dev0,>=2.18.0 in /usr/local/lib/python3.10/dist-packages (from google-api-core->google-generativeai->pgmpy) (2.32.3)\n",
            "Requirement already satisfied: cachetools<6.0,>=2.0.0 in /usr/local/lib/python3.10/dist-packages (from google-auth>=2.15.0->google-generativeai->pgmpy) (5.5.0)\n",
            "Requirement already satisfied: pyasn1-modules>=0.2.1 in /usr/local/lib/python3.10/dist-packages (from google-auth>=2.15.0->google-generativeai->pgmpy) (0.4.1)\n",
            "Requirement already satisfied: rsa<5,>=3.1.4 in /usr/local/lib/python3.10/dist-packages (from google-auth>=2.15.0->google-generativeai->pgmpy) (4.9)\n",
            "Requirement already satisfied: six in /usr/local/lib/python3.10/dist-packages (from patsy>=0.5.6->statsmodels->pgmpy) (1.16.0)\n",
            "Requirement already satisfied: httplib2<1.dev0,>=0.19.0 in /usr/local/lib/python3.10/dist-packages (from google-api-python-client->google-generativeai->pgmpy) (0.22.0)\n",
            "Requirement already satisfied: google-auth-httplib2<1.0.0,>=0.2.0 in /usr/local/lib/python3.10/dist-packages (from google-api-python-client->google-generativeai->pgmpy) (0.2.0)\n",
            "Requirement already satisfied: uritemplate<5,>=3.0.1 in /usr/local/lib/python3.10/dist-packages (from google-api-python-client->google-generativeai->pgmpy) (4.1.1)\n",
            "Requirement already satisfied: MarkupSafe>=2.0 in /usr/local/lib/python3.10/dist-packages (from jinja2->torch->pgmpy) (3.0.1)\n",
            "Requirement already satisfied: annotated-types>=0.6.0 in /usr/local/lib/python3.10/dist-packages (from pydantic->google-generativeai->pgmpy) (0.7.0)\n",
            "Requirement already satisfied: pydantic-core==2.23.4 in /usr/local/lib/python3.10/dist-packages (from pydantic->google-generativeai->pgmpy) (2.23.4)\n",
            "Requirement already satisfied: mpmath<1.4,>=1.1.0 in /usr/local/lib/python3.10/dist-packages (from sympy->torch->pgmpy) (1.3.0)\n",
            "Requirement already satisfied: grpcio<2.0dev,>=1.33.2 in /usr/local/lib/python3.10/dist-packages (from google-api-core[grpc]!=2.0.*,!=2.1.*,!=2.10.*,!=2.2.*,!=2.3.*,!=2.4.*,!=2.5.*,!=2.6.*,!=2.7.*,!=2.8.*,!=2.9.*,<3.0.0dev,>=1.34.1->google-ai-generativelanguage==0.6.10->google-generativeai->pgmpy) (1.64.1)\n",
            "Requirement already satisfied: grpcio-status<2.0.dev0,>=1.33.2 in /usr/local/lib/python3.10/dist-packages (from google-api-core[grpc]!=2.0.*,!=2.1.*,!=2.10.*,!=2.2.*,!=2.3.*,!=2.4.*,!=2.5.*,!=2.6.*,!=2.7.*,!=2.8.*,!=2.9.*,<3.0.0dev,>=1.34.1->google-ai-generativelanguage==0.6.10->google-generativeai->pgmpy) (1.48.2)\n",
            "Requirement already satisfied: pyasn1<0.7.0,>=0.4.6 in /usr/local/lib/python3.10/dist-packages (from pyasn1-modules>=0.2.1->google-auth>=2.15.0->google-generativeai->pgmpy) (0.6.1)\n",
            "Requirement already satisfied: charset-normalizer<4,>=2 in /usr/local/lib/python3.10/dist-packages (from requests<3.0.0.dev0,>=2.18.0->google-api-core->google-generativeai->pgmpy) (3.4.0)\n",
            "Requirement already satisfied: idna<4,>=2.5 in /usr/local/lib/python3.10/dist-packages (from requests<3.0.0.dev0,>=2.18.0->google-api-core->google-generativeai->pgmpy) (3.10)\n",
            "Requirement already satisfied: urllib3<3,>=1.21.1 in /usr/local/lib/python3.10/dist-packages (from requests<3.0.0.dev0,>=2.18.0->google-api-core->google-generativeai->pgmpy) (2.2.3)\n",
            "Requirement already satisfied: certifi>=2017.4.17 in /usr/local/lib/python3.10/dist-packages (from requests<3.0.0.dev0,>=2.18.0->google-api-core->google-generativeai->pgmpy) (2024.8.30)\n"
          ]
        }
      ],
      "source": [
        "!pip install pgmpy"
      ]
    },
    {
      "cell_type": "markdown",
      "source": [
        "# **2. Import Libraries:**"
      ],
      "metadata": {
        "id": "hSzeFquYZhzq"
      }
    },
    {
      "cell_type": "code",
      "source": [
        "import numpy as np\n",
        "import pandas as pd\n",
        "from pgmpy.models import BayesianNetwork\n",
        "from pgmpy.inference import VariableElimination\n",
        "from pgmpy.inference import BeliefPropagation\n",
        "from pgmpy.factors.discrete import TabularCPD\n",
        "from pgmpy.estimators import MaximumLikelihoodEstimator\n",
        "import networkx as nx\n",
        "import matplotlib.pyplot as plt"
      ],
      "metadata": {
        "id": "0dARuHUAZkIi"
      },
      "execution_count": 58,
      "outputs": []
    },
    {
      "cell_type": "markdown",
      "source": [
        "# **Exercise 2: Define the Bayesian Network Structure**"
      ],
      "metadata": {
        "id": "Ix05heqvaA2s"
      }
    },
    {
      "cell_type": "markdown",
      "source": [
        "**1. Define the Variables:**"
      ],
      "metadata": {
        "id": "_ObcLFEMoQZC"
      }
    },
    {
      "cell_type": "code",
      "source": [
        "model = BayesianNetwork([\n",
        "    ('Age', 'HeartDisease'),\n",
        "    ('Smoking', 'HeartDisease'),\n",
        "    ('Exercise', 'HeartDisease'),\n",
        "    ('Cholesterol', 'HeartDisease'),\n",
        "    ('BloodPressure', 'HeartDisease'),  # Ensure this matches the CPD definition\n",
        "    ('HeartDisease', 'ChestPain'),\n",
        "    ('HeartDisease', 'ECGResult')\n",
        "])"
      ],
      "metadata": {
        "id": "pFhjhcx9aBPR"
      },
      "execution_count": 59,
      "outputs": []
    },
    {
      "cell_type": "markdown",
      "source": [
        "# **Exercise 3: Define Conditional Probability Tables (CPTs)**"
      ],
      "metadata": {
        "id": "y8ChPe2oyx7o"
      }
    },
    {
      "cell_type": "markdown",
      "source": [
        "**1. Create CPTs Using pgmpy:**"
      ],
      "metadata": {
        "id": "o2tr1Wiiy29j"
      }
    },
    {
      "cell_type": "code",
      "source": [
        "cpd_age = TabularCPD(variable='Age', variable_card=3, values=[[0.3], [0.5], [0.2]])\n",
        "\n",
        "cpd_smoking = TabularCPD(variable='Smoking', variable_card=2, values=[[0.6], [0.4]])\n",
        "\n",
        "cpd_exercise = TabularCPD(variable='Exercise', variable_card=2, values=[[0.7], [0.3]])\n",
        "\n",
        "cpd_cholesterol = TabularCPD(variable='Cholesterol', variable_card=2, values=[[0.4], [0.6]])\n",
        "\n",
        "cpd_blood_pressure = TabularCPD(variable='BloodPressure', variable_card=2, values=[[0.55], [0.45]])\n",
        "\n",
        "cpd_heart_disease = TabularCPD(\n",
        "    variable='HeartDisease', variable_card=2,\n",
        "    values=[\n",
        "        # No Heart Disease\n",
        "        [0.99, 0.95, 0.9, 0.85, 0.9, 0.85, 0.8, 0.75, 0.85, 0.8, 0.75, 0.7,\n",
        "         0.75, 0.7, 0.65, 0.6, 0.7, 0.65, 0.6, 0.55, 0.65, 0.6, 0.55, 0.5,\n",
        "         0.6, 0.55, 0.5, 0.45, 0.55, 0.5, 0.45, 0.4, 0.5, 0.45, 0.4, 0.35,\n",
        "         0.45, 0.4, 0.35, 0.3, 0.4, 0.35, 0.3, 0.25, 0.35, 0.3, 0.25, 0.2],\n",
        "\n",
        "        # Yes Heart Disease\n",
        "        [0.01, 0.05, 0.1, 0.15, 0.1, 0.15, 0.2, 0.25, 0.15, 0.2, 0.25, 0.3,\n",
        "         0.25, 0.3, 0.35, 0.4, 0.3, 0.35, 0.4, 0.45, 0.35, 0.4, 0.45, 0.5,\n",
        "         0.4, 0.45, 0.5, 0.55, 0.45, 0.5, 0.55, 0.6, 0.5, 0.55, 0.6, 0.65,\n",
        "         0.55, 0.6, 0.65, 0.7, 0.6, 0.65, 0.7, 0.75, 0.65, 0.7, 0.75, 0.8]\n",
        "    ],\n",
        "    evidence=['Age', 'Smoking', 'Exercise', 'Cholesterol', 'BloodPressure'],\n",
        "    evidence_card=[3, 2, 2, 2, 2]\n",
        ")\n",
        "\n",
        "# CPD for Chest Pain\n",
        "cpd_chest_pain = TabularCPD(\n",
        "    variable='ChestPain', variable_card=2,\n",
        "    values=[[0.8, 0.3], [0.2, 0.7]],\n",
        "    evidence=['HeartDisease'],\n",
        "    evidence_card=[2]\n",
        ")\n",
        "\n",
        "# CPD for ECG Result\n",
        "cpd_ecg_result = TabularCPD(\n",
        "    variable='ECGResult', variable_card=2,\n",
        "    values=[[0.9, 0.4], [0.1, 0.6]],\n",
        "    evidence=['HeartDisease'],\n",
        "    evidence_card=[2]\n",
        ")\n",
        "\n",
        "model.add_cpds(cpd_age, cpd_smoking, cpd_exercise, cpd_cholesterol, cpd_blood_pressure,\n",
        "               cpd_heart_disease, cpd_chest_pain, cpd_ecg_result)\n",
        "\n",
        "assert model.check_model()"
      ],
      "metadata": {
        "id": "rXW2-Wjgy8RB"
      },
      "execution_count": 60,
      "outputs": []
    },
    {
      "cell_type": "markdown",
      "source": [
        "# **Exercise 4: Inference in the Bayesian Network**"
      ],
      "metadata": {
        "id": "sM77vHx_4lLP"
      }
    },
    {
      "cell_type": "markdown",
      "source": [
        "**1. Perform Probabilistic Inference:**"
      ],
      "metadata": {
        "id": "InbS-2U74pqn"
      }
    },
    {
      "cell_type": "code",
      "source": [
        "inference = VariableElimination(model)\n",
        "\n",
        "query_result = inference.query(variables=['HeartDisease'], evidence={'Age': 1, 'Smoking': 1, 'Cholesterol': 1, 'BloodPressure': 1})\n",
        "print(query_result)\n",
        "\n",
        "query_result = inference.query(variables=['ECGResult'], evidence={'ChestPain': 1})\n",
        "print(query_result)"
      ],
      "metadata": {
        "colab": {
          "base_uri": "https://localhost:8080/"
        },
        "id": "rLdezE5W2xCN",
        "outputId": "124ca466-4a5c-44d9-af42-650c91009314"
      },
      "execution_count": 61,
      "outputs": [
        {
          "output_type": "stream",
          "name": "stdout",
          "text": [
            "+-----------------+---------------------+\n",
            "| HeartDisease    |   phi(HeartDisease) |\n",
            "+=================+=====================+\n",
            "| HeartDisease(0) |              0.4350 |\n",
            "+-----------------+---------------------+\n",
            "| HeartDisease(1) |              0.5650 |\n",
            "+-----------------+---------------------+\n",
            "+--------------+------------------+\n",
            "| ECGResult    |   phi(ECGResult) |\n",
            "+==============+==================+\n",
            "| ECGResult(0) |           0.5508 |\n",
            "+--------------+------------------+\n",
            "| ECGResult(1) |           0.4492 |\n",
            "+--------------+------------------+\n"
          ]
        }
      ]
    },
    {
      "cell_type": "markdown",
      "source": [
        "**2. Posterior Probability Analysis:**"
      ],
      "metadata": {
        "id": "eh1H1F9k4tIU"
      }
    },
    {
      "cell_type": "code",
      "source": [
        "query_result = inference.query(variables=['HeartDisease'], evidence={'Exercise': 0})\n",
        "print(query_result)"
      ],
      "metadata": {
        "colab": {
          "base_uri": "https://localhost:8080/"
        },
        "id": "aN-0mPQM4vrN",
        "outputId": "91ded3d9-d725-46f6-81b1-f535f8c8b011"
      },
      "execution_count": 62,
      "outputs": [
        {
          "output_type": "stream",
          "name": "stdout",
          "text": [
            "+-----------------+---------------------+\n",
            "| HeartDisease    |   phi(HeartDisease) |\n",
            "+=================+=====================+\n",
            "| HeartDisease(0) |              0.6211 |\n",
            "+-----------------+---------------------+\n",
            "| HeartDisease(1) |              0.3789 |\n",
            "+-----------------+---------------------+\n"
          ]
        }
      ]
    },
    {
      "cell_type": "markdown",
      "source": [
        "# **Exercise 5: Parameter Learning from Simulated Data**"
      ],
      "metadata": {
        "id": "NGLOVgYl6Dd2"
      }
    },
    {
      "cell_type": "markdown",
      "source": [
        "**1. Simulate a Healthcare Dataset:**"
      ],
      "metadata": {
        "id": "5lVgr9ud6E2I"
      }
    },
    {
      "cell_type": "code",
      "source": [
        "import numpy as np\n",
        "import pandas as pd\n",
        "\n",
        "num_patients = 1000\n",
        "\n",
        "age = np.random.choice([0, 1, 2], size=num_patients, p=[0.3, 0.5, 0.2])\n",
        "smoking = np.random.choice([0, 1], size=num_patients, p=[0.7, 0.3])\n",
        "exercise = np.random.choice([0, 1], size=num_patients, p=[0.6, 0.4])\n",
        "cholesterol = np.random.choice([0, 1], size=num_patients, p=[0.6, 0.4])\n",
        "blood_pressure = np.random.choice([0, 1], size=num_patients, p=[0.7, 0.3])\n",
        "\n",
        "# Heart Disease: depends on Age, Smoking, Exercise, Cholesterol, Blood Pressure\n",
        "heart_disease = []\n",
        "for i in range(num_patients):\n",
        "    if age[i] == 2 or smoking[i] == 1 or exercise[i] == 1 or cholesterol[i] == 1 or blood_pressure[i] == 1:\n",
        "        # Higher chance of heart disease\n",
        "        heart_disease.append(np.random.choice([0, 1], p=[0.4, 0.6]))\n",
        "    else:\n",
        "        # Lower chance of heart disease\n",
        "        heart_disease.append(np.random.choice([0, 1], p=[0.8, 0.2]))\n",
        "\n",
        "# Chest Pain: depends on Heart Disease\n",
        "chest_pain = [np.random.choice([0, 1], p=[0.2, 0.8]) if hd == 1 else np.random.choice([0, 1], p=[0.9, 0.1]) for hd in heart_disease]\n",
        "\n",
        "# ECG Result: depends on Heart Disease\n",
        "ecg_result = [np.random.choice([0, 1], p=[0.3, 0.7]) if hd == 1 else np.random.choice([0, 1], p=[0.85, 0.15]) for hd in heart_disease]\n",
        "\n",
        "data = pd.DataFrame({\n",
        "    'Age': age,\n",
        "    'Smoking': smoking,\n",
        "    'Exercise': exercise,\n",
        "    'Cholesterol': cholesterol,\n",
        "    'BloodPressure': blood_pressure,\n",
        "    'HeartDisease': heart_disease,\n",
        "    'ChestPain': chest_pain,\n",
        "    'ECGResult': ecg_result\n",
        "})\n",
        "\n",
        "data['Age'] = data['Age'].map({0: 'Young', 1: 'Middle-aged', 2: 'Old'})\n",
        "data['Smoking'] = data['Smoking'].map({0: 'No', 1: 'Yes'})\n",
        "data['Exercise'] = data['Exercise'].map({0: 'Regular', 1: 'None'})\n",
        "data['Cholesterol'] = data['Cholesterol'].map({0: 'Normal', 1: 'High'})\n",
        "data['BloodPressure'] = data['BloodPressure'].map({0: 'Normal', 1: 'High'})\n",
        "data['HeartDisease'] = data['HeartDisease'].map({0: 'No', 1: 'Yes'})\n",
        "data['ChestPain'] = data['ChestPain'].map({0: 'No', 1: 'Yes'})\n",
        "data['ECGResult'] = data['ECGResult'].map({0: 'Normal', 1: 'Abnormal'})\n",
        "\n",
        "data"
      ],
      "metadata": {
        "colab": {
          "base_uri": "https://localhost:8080/",
          "height": 423
        },
        "id": "vFoVcBTF6HAv",
        "outputId": "dca7f741-f47f-432a-d30e-7d133daf126d"
      },
      "execution_count": 63,
      "outputs": [
        {
          "output_type": "execute_result",
          "data": {
            "text/plain": [
              "             Age Smoking Exercise Cholesterol BloodPressure HeartDisease  \\\n",
              "0          Young     Yes     None        High        Normal          Yes   \n",
              "1    Middle-aged      No  Regular        High        Normal          Yes   \n",
              "2          Young     Yes  Regular      Normal        Normal          Yes   \n",
              "3    Middle-aged      No  Regular      Normal        Normal          Yes   \n",
              "4    Middle-aged      No  Regular        High          High          Yes   \n",
              "..           ...     ...      ...         ...           ...          ...   \n",
              "995        Young     Yes  Regular      Normal          High          Yes   \n",
              "996          Old     Yes  Regular        High          High          Yes   \n",
              "997  Middle-aged      No  Regular      Normal        Normal           No   \n",
              "998  Middle-aged     Yes  Regular        High        Normal          Yes   \n",
              "999  Middle-aged      No  Regular      Normal        Normal          Yes   \n",
              "\n",
              "    ChestPain ECGResult  \n",
              "0         Yes  Abnormal  \n",
              "1          No  Abnormal  \n",
              "2          No  Abnormal  \n",
              "3         Yes    Normal  \n",
              "4          No  Abnormal  \n",
              "..        ...       ...  \n",
              "995       Yes    Normal  \n",
              "996       Yes  Abnormal  \n",
              "997        No    Normal  \n",
              "998       Yes  Abnormal  \n",
              "999       Yes  Abnormal  \n",
              "\n",
              "[1000 rows x 8 columns]"
            ],
            "text/html": [
              "\n",
              "  <div id=\"df-c2c89abe-18c0-4ed7-9a1c-16dcb086f625\" class=\"colab-df-container\">\n",
              "    <div>\n",
              "<style scoped>\n",
              "    .dataframe tbody tr th:only-of-type {\n",
              "        vertical-align: middle;\n",
              "    }\n",
              "\n",
              "    .dataframe tbody tr th {\n",
              "        vertical-align: top;\n",
              "    }\n",
              "\n",
              "    .dataframe thead th {\n",
              "        text-align: right;\n",
              "    }\n",
              "</style>\n",
              "<table border=\"1\" class=\"dataframe\">\n",
              "  <thead>\n",
              "    <tr style=\"text-align: right;\">\n",
              "      <th></th>\n",
              "      <th>Age</th>\n",
              "      <th>Smoking</th>\n",
              "      <th>Exercise</th>\n",
              "      <th>Cholesterol</th>\n",
              "      <th>BloodPressure</th>\n",
              "      <th>HeartDisease</th>\n",
              "      <th>ChestPain</th>\n",
              "      <th>ECGResult</th>\n",
              "    </tr>\n",
              "  </thead>\n",
              "  <tbody>\n",
              "    <tr>\n",
              "      <th>0</th>\n",
              "      <td>Young</td>\n",
              "      <td>Yes</td>\n",
              "      <td>None</td>\n",
              "      <td>High</td>\n",
              "      <td>Normal</td>\n",
              "      <td>Yes</td>\n",
              "      <td>Yes</td>\n",
              "      <td>Abnormal</td>\n",
              "    </tr>\n",
              "    <tr>\n",
              "      <th>1</th>\n",
              "      <td>Middle-aged</td>\n",
              "      <td>No</td>\n",
              "      <td>Regular</td>\n",
              "      <td>High</td>\n",
              "      <td>Normal</td>\n",
              "      <td>Yes</td>\n",
              "      <td>No</td>\n",
              "      <td>Abnormal</td>\n",
              "    </tr>\n",
              "    <tr>\n",
              "      <th>2</th>\n",
              "      <td>Young</td>\n",
              "      <td>Yes</td>\n",
              "      <td>Regular</td>\n",
              "      <td>Normal</td>\n",
              "      <td>Normal</td>\n",
              "      <td>Yes</td>\n",
              "      <td>No</td>\n",
              "      <td>Abnormal</td>\n",
              "    </tr>\n",
              "    <tr>\n",
              "      <th>3</th>\n",
              "      <td>Middle-aged</td>\n",
              "      <td>No</td>\n",
              "      <td>Regular</td>\n",
              "      <td>Normal</td>\n",
              "      <td>Normal</td>\n",
              "      <td>Yes</td>\n",
              "      <td>Yes</td>\n",
              "      <td>Normal</td>\n",
              "    </tr>\n",
              "    <tr>\n",
              "      <th>4</th>\n",
              "      <td>Middle-aged</td>\n",
              "      <td>No</td>\n",
              "      <td>Regular</td>\n",
              "      <td>High</td>\n",
              "      <td>High</td>\n",
              "      <td>Yes</td>\n",
              "      <td>No</td>\n",
              "      <td>Abnormal</td>\n",
              "    </tr>\n",
              "    <tr>\n",
              "      <th>...</th>\n",
              "      <td>...</td>\n",
              "      <td>...</td>\n",
              "      <td>...</td>\n",
              "      <td>...</td>\n",
              "      <td>...</td>\n",
              "      <td>...</td>\n",
              "      <td>...</td>\n",
              "      <td>...</td>\n",
              "    </tr>\n",
              "    <tr>\n",
              "      <th>995</th>\n",
              "      <td>Young</td>\n",
              "      <td>Yes</td>\n",
              "      <td>Regular</td>\n",
              "      <td>Normal</td>\n",
              "      <td>High</td>\n",
              "      <td>Yes</td>\n",
              "      <td>Yes</td>\n",
              "      <td>Normal</td>\n",
              "    </tr>\n",
              "    <tr>\n",
              "      <th>996</th>\n",
              "      <td>Old</td>\n",
              "      <td>Yes</td>\n",
              "      <td>Regular</td>\n",
              "      <td>High</td>\n",
              "      <td>High</td>\n",
              "      <td>Yes</td>\n",
              "      <td>Yes</td>\n",
              "      <td>Abnormal</td>\n",
              "    </tr>\n",
              "    <tr>\n",
              "      <th>997</th>\n",
              "      <td>Middle-aged</td>\n",
              "      <td>No</td>\n",
              "      <td>Regular</td>\n",
              "      <td>Normal</td>\n",
              "      <td>Normal</td>\n",
              "      <td>No</td>\n",
              "      <td>No</td>\n",
              "      <td>Normal</td>\n",
              "    </tr>\n",
              "    <tr>\n",
              "      <th>998</th>\n",
              "      <td>Middle-aged</td>\n",
              "      <td>Yes</td>\n",
              "      <td>Regular</td>\n",
              "      <td>High</td>\n",
              "      <td>Normal</td>\n",
              "      <td>Yes</td>\n",
              "      <td>Yes</td>\n",
              "      <td>Abnormal</td>\n",
              "    </tr>\n",
              "    <tr>\n",
              "      <th>999</th>\n",
              "      <td>Middle-aged</td>\n",
              "      <td>No</td>\n",
              "      <td>Regular</td>\n",
              "      <td>Normal</td>\n",
              "      <td>Normal</td>\n",
              "      <td>Yes</td>\n",
              "      <td>Yes</td>\n",
              "      <td>Abnormal</td>\n",
              "    </tr>\n",
              "  </tbody>\n",
              "</table>\n",
              "<p>1000 rows × 8 columns</p>\n",
              "</div>\n",
              "    <div class=\"colab-df-buttons\">\n",
              "\n",
              "  <div class=\"colab-df-container\">\n",
              "    <button class=\"colab-df-convert\" onclick=\"convertToInteractive('df-c2c89abe-18c0-4ed7-9a1c-16dcb086f625')\"\n",
              "            title=\"Convert this dataframe to an interactive table.\"\n",
              "            style=\"display:none;\">\n",
              "\n",
              "  <svg xmlns=\"http://www.w3.org/2000/svg\" height=\"24px\" viewBox=\"0 -960 960 960\">\n",
              "    <path d=\"M120-120v-720h720v720H120Zm60-500h600v-160H180v160Zm220 220h160v-160H400v160Zm0 220h160v-160H400v160ZM180-400h160v-160H180v160Zm440 0h160v-160H620v160ZM180-180h160v-160H180v160Zm440 0h160v-160H620v160Z\"/>\n",
              "  </svg>\n",
              "    </button>\n",
              "\n",
              "  <style>\n",
              "    .colab-df-container {\n",
              "      display:flex;\n",
              "      gap: 12px;\n",
              "    }\n",
              "\n",
              "    .colab-df-convert {\n",
              "      background-color: #E8F0FE;\n",
              "      border: none;\n",
              "      border-radius: 50%;\n",
              "      cursor: pointer;\n",
              "      display: none;\n",
              "      fill: #1967D2;\n",
              "      height: 32px;\n",
              "      padding: 0 0 0 0;\n",
              "      width: 32px;\n",
              "    }\n",
              "\n",
              "    .colab-df-convert:hover {\n",
              "      background-color: #E2EBFA;\n",
              "      box-shadow: 0px 1px 2px rgba(60, 64, 67, 0.3), 0px 1px 3px 1px rgba(60, 64, 67, 0.15);\n",
              "      fill: #174EA6;\n",
              "    }\n",
              "\n",
              "    .colab-df-buttons div {\n",
              "      margin-bottom: 4px;\n",
              "    }\n",
              "\n",
              "    [theme=dark] .colab-df-convert {\n",
              "      background-color: #3B4455;\n",
              "      fill: #D2E3FC;\n",
              "    }\n",
              "\n",
              "    [theme=dark] .colab-df-convert:hover {\n",
              "      background-color: #434B5C;\n",
              "      box-shadow: 0px 1px 3px 1px rgba(0, 0, 0, 0.15);\n",
              "      filter: drop-shadow(0px 1px 2px rgba(0, 0, 0, 0.3));\n",
              "      fill: #FFFFFF;\n",
              "    }\n",
              "  </style>\n",
              "\n",
              "    <script>\n",
              "      const buttonEl =\n",
              "        document.querySelector('#df-c2c89abe-18c0-4ed7-9a1c-16dcb086f625 button.colab-df-convert');\n",
              "      buttonEl.style.display =\n",
              "        google.colab.kernel.accessAllowed ? 'block' : 'none';\n",
              "\n",
              "      async function convertToInteractive(key) {\n",
              "        const element = document.querySelector('#df-c2c89abe-18c0-4ed7-9a1c-16dcb086f625');\n",
              "        const dataTable =\n",
              "          await google.colab.kernel.invokeFunction('convertToInteractive',\n",
              "                                                    [key], {});\n",
              "        if (!dataTable) return;\n",
              "\n",
              "        const docLinkHtml = 'Like what you see? Visit the ' +\n",
              "          '<a target=\"_blank\" href=https://colab.research.google.com/notebooks/data_table.ipynb>data table notebook</a>'\n",
              "          + ' to learn more about interactive tables.';\n",
              "        element.innerHTML = '';\n",
              "        dataTable['output_type'] = 'display_data';\n",
              "        await google.colab.output.renderOutput(dataTable, element);\n",
              "        const docLink = document.createElement('div');\n",
              "        docLink.innerHTML = docLinkHtml;\n",
              "        element.appendChild(docLink);\n",
              "      }\n",
              "    </script>\n",
              "  </div>\n",
              "\n",
              "\n",
              "<div id=\"df-807033be-bdf1-4745-af3c-0d0d4bd0c971\">\n",
              "  <button class=\"colab-df-quickchart\" onclick=\"quickchart('df-807033be-bdf1-4745-af3c-0d0d4bd0c971')\"\n",
              "            title=\"Suggest charts\"\n",
              "            style=\"display:none;\">\n",
              "\n",
              "<svg xmlns=\"http://www.w3.org/2000/svg\" height=\"24px\"viewBox=\"0 0 24 24\"\n",
              "     width=\"24px\">\n",
              "    <g>\n",
              "        <path d=\"M19 3H5c-1.1 0-2 .9-2 2v14c0 1.1.9 2 2 2h14c1.1 0 2-.9 2-2V5c0-1.1-.9-2-2-2zM9 17H7v-7h2v7zm4 0h-2V7h2v10zm4 0h-2v-4h2v4z\"/>\n",
              "    </g>\n",
              "</svg>\n",
              "  </button>\n",
              "\n",
              "<style>\n",
              "  .colab-df-quickchart {\n",
              "      --bg-color: #E8F0FE;\n",
              "      --fill-color: #1967D2;\n",
              "      --hover-bg-color: #E2EBFA;\n",
              "      --hover-fill-color: #174EA6;\n",
              "      --disabled-fill-color: #AAA;\n",
              "      --disabled-bg-color: #DDD;\n",
              "  }\n",
              "\n",
              "  [theme=dark] .colab-df-quickchart {\n",
              "      --bg-color: #3B4455;\n",
              "      --fill-color: #D2E3FC;\n",
              "      --hover-bg-color: #434B5C;\n",
              "      --hover-fill-color: #FFFFFF;\n",
              "      --disabled-bg-color: #3B4455;\n",
              "      --disabled-fill-color: #666;\n",
              "  }\n",
              "\n",
              "  .colab-df-quickchart {\n",
              "    background-color: var(--bg-color);\n",
              "    border: none;\n",
              "    border-radius: 50%;\n",
              "    cursor: pointer;\n",
              "    display: none;\n",
              "    fill: var(--fill-color);\n",
              "    height: 32px;\n",
              "    padding: 0;\n",
              "    width: 32px;\n",
              "  }\n",
              "\n",
              "  .colab-df-quickchart:hover {\n",
              "    background-color: var(--hover-bg-color);\n",
              "    box-shadow: 0 1px 2px rgba(60, 64, 67, 0.3), 0 1px 3px 1px rgba(60, 64, 67, 0.15);\n",
              "    fill: var(--button-hover-fill-color);\n",
              "  }\n",
              "\n",
              "  .colab-df-quickchart-complete:disabled,\n",
              "  .colab-df-quickchart-complete:disabled:hover {\n",
              "    background-color: var(--disabled-bg-color);\n",
              "    fill: var(--disabled-fill-color);\n",
              "    box-shadow: none;\n",
              "  }\n",
              "\n",
              "  .colab-df-spinner {\n",
              "    border: 2px solid var(--fill-color);\n",
              "    border-color: transparent;\n",
              "    border-bottom-color: var(--fill-color);\n",
              "    animation:\n",
              "      spin 1s steps(1) infinite;\n",
              "  }\n",
              "\n",
              "  @keyframes spin {\n",
              "    0% {\n",
              "      border-color: transparent;\n",
              "      border-bottom-color: var(--fill-color);\n",
              "      border-left-color: var(--fill-color);\n",
              "    }\n",
              "    20% {\n",
              "      border-color: transparent;\n",
              "      border-left-color: var(--fill-color);\n",
              "      border-top-color: var(--fill-color);\n",
              "    }\n",
              "    30% {\n",
              "      border-color: transparent;\n",
              "      border-left-color: var(--fill-color);\n",
              "      border-top-color: var(--fill-color);\n",
              "      border-right-color: var(--fill-color);\n",
              "    }\n",
              "    40% {\n",
              "      border-color: transparent;\n",
              "      border-right-color: var(--fill-color);\n",
              "      border-top-color: var(--fill-color);\n",
              "    }\n",
              "    60% {\n",
              "      border-color: transparent;\n",
              "      border-right-color: var(--fill-color);\n",
              "    }\n",
              "    80% {\n",
              "      border-color: transparent;\n",
              "      border-right-color: var(--fill-color);\n",
              "      border-bottom-color: var(--fill-color);\n",
              "    }\n",
              "    90% {\n",
              "      border-color: transparent;\n",
              "      border-bottom-color: var(--fill-color);\n",
              "    }\n",
              "  }\n",
              "</style>\n",
              "\n",
              "  <script>\n",
              "    async function quickchart(key) {\n",
              "      const quickchartButtonEl =\n",
              "        document.querySelector('#' + key + ' button');\n",
              "      quickchartButtonEl.disabled = true;  // To prevent multiple clicks.\n",
              "      quickchartButtonEl.classList.add('colab-df-spinner');\n",
              "      try {\n",
              "        const charts = await google.colab.kernel.invokeFunction(\n",
              "            'suggestCharts', [key], {});\n",
              "      } catch (error) {\n",
              "        console.error('Error during call to suggestCharts:', error);\n",
              "      }\n",
              "      quickchartButtonEl.classList.remove('colab-df-spinner');\n",
              "      quickchartButtonEl.classList.add('colab-df-quickchart-complete');\n",
              "    }\n",
              "    (() => {\n",
              "      let quickchartButtonEl =\n",
              "        document.querySelector('#df-807033be-bdf1-4745-af3c-0d0d4bd0c971 button');\n",
              "      quickchartButtonEl.style.display =\n",
              "        google.colab.kernel.accessAllowed ? 'block' : 'none';\n",
              "    })();\n",
              "  </script>\n",
              "</div>\n",
              "\n",
              "  <div id=\"id_b3c0f3b9-3711-4c53-bcee-d1245c5fb44f\">\n",
              "    <style>\n",
              "      .colab-df-generate {\n",
              "        background-color: #E8F0FE;\n",
              "        border: none;\n",
              "        border-radius: 50%;\n",
              "        cursor: pointer;\n",
              "        display: none;\n",
              "        fill: #1967D2;\n",
              "        height: 32px;\n",
              "        padding: 0 0 0 0;\n",
              "        width: 32px;\n",
              "      }\n",
              "\n",
              "      .colab-df-generate:hover {\n",
              "        background-color: #E2EBFA;\n",
              "        box-shadow: 0px 1px 2px rgba(60, 64, 67, 0.3), 0px 1px 3px 1px rgba(60, 64, 67, 0.15);\n",
              "        fill: #174EA6;\n",
              "      }\n",
              "\n",
              "      [theme=dark] .colab-df-generate {\n",
              "        background-color: #3B4455;\n",
              "        fill: #D2E3FC;\n",
              "      }\n",
              "\n",
              "      [theme=dark] .colab-df-generate:hover {\n",
              "        background-color: #434B5C;\n",
              "        box-shadow: 0px 1px 3px 1px rgba(0, 0, 0, 0.15);\n",
              "        filter: drop-shadow(0px 1px 2px rgba(0, 0, 0, 0.3));\n",
              "        fill: #FFFFFF;\n",
              "      }\n",
              "    </style>\n",
              "    <button class=\"colab-df-generate\" onclick=\"generateWithVariable('data')\"\n",
              "            title=\"Generate code using this dataframe.\"\n",
              "            style=\"display:none;\">\n",
              "\n",
              "  <svg xmlns=\"http://www.w3.org/2000/svg\" height=\"24px\"viewBox=\"0 0 24 24\"\n",
              "       width=\"24px\">\n",
              "    <path d=\"M7,19H8.4L18.45,9,17,7.55,7,17.6ZM5,21V16.75L18.45,3.32a2,2,0,0,1,2.83,0l1.4,1.43a1.91,1.91,0,0,1,.58,1.4,1.91,1.91,0,0,1-.58,1.4L9.25,21ZM18.45,9,17,7.55Zm-12,3A5.31,5.31,0,0,0,4.9,8.1,5.31,5.31,0,0,0,1,6.5,5.31,5.31,0,0,0,4.9,4.9,5.31,5.31,0,0,0,6.5,1,5.31,5.31,0,0,0,8.1,4.9,5.31,5.31,0,0,0,12,6.5,5.46,5.46,0,0,0,6.5,12Z\"/>\n",
              "  </svg>\n",
              "    </button>\n",
              "    <script>\n",
              "      (() => {\n",
              "      const buttonEl =\n",
              "        document.querySelector('#id_b3c0f3b9-3711-4c53-bcee-d1245c5fb44f button.colab-df-generate');\n",
              "      buttonEl.style.display =\n",
              "        google.colab.kernel.accessAllowed ? 'block' : 'none';\n",
              "\n",
              "      buttonEl.onclick = () => {\n",
              "        google.colab.notebook.generateWithVariable('data');\n",
              "      }\n",
              "      })();\n",
              "    </script>\n",
              "  </div>\n",
              "\n",
              "    </div>\n",
              "  </div>\n"
            ],
            "application/vnd.google.colaboratory.intrinsic+json": {
              "type": "dataframe",
              "variable_name": "data",
              "summary": "{\n  \"name\": \"data\",\n  \"rows\": 1000,\n  \"fields\": [\n    {\n      \"column\": \"Age\",\n      \"properties\": {\n        \"dtype\": \"category\",\n        \"num_unique_values\": 3,\n        \"samples\": [\n          \"Young\",\n          \"Middle-aged\",\n          \"Old\"\n        ],\n        \"semantic_type\": \"\",\n        \"description\": \"\"\n      }\n    },\n    {\n      \"column\": \"Smoking\",\n      \"properties\": {\n        \"dtype\": \"category\",\n        \"num_unique_values\": 2,\n        \"samples\": [\n          \"No\",\n          \"Yes\"\n        ],\n        \"semantic_type\": \"\",\n        \"description\": \"\"\n      }\n    },\n    {\n      \"column\": \"Exercise\",\n      \"properties\": {\n        \"dtype\": \"category\",\n        \"num_unique_values\": 2,\n        \"samples\": [\n          \"Regular\",\n          \"None\"\n        ],\n        \"semantic_type\": \"\",\n        \"description\": \"\"\n      }\n    },\n    {\n      \"column\": \"Cholesterol\",\n      \"properties\": {\n        \"dtype\": \"category\",\n        \"num_unique_values\": 2,\n        \"samples\": [\n          \"Normal\",\n          \"High\"\n        ],\n        \"semantic_type\": \"\",\n        \"description\": \"\"\n      }\n    },\n    {\n      \"column\": \"BloodPressure\",\n      \"properties\": {\n        \"dtype\": \"category\",\n        \"num_unique_values\": 2,\n        \"samples\": [\n          \"High\",\n          \"Normal\"\n        ],\n        \"semantic_type\": \"\",\n        \"description\": \"\"\n      }\n    },\n    {\n      \"column\": \"HeartDisease\",\n      \"properties\": {\n        \"dtype\": \"category\",\n        \"num_unique_values\": 2,\n        \"samples\": [\n          \"No\",\n          \"Yes\"\n        ],\n        \"semantic_type\": \"\",\n        \"description\": \"\"\n      }\n    },\n    {\n      \"column\": \"ChestPain\",\n      \"properties\": {\n        \"dtype\": \"category\",\n        \"num_unique_values\": 2,\n        \"samples\": [\n          \"No\",\n          \"Yes\"\n        ],\n        \"semantic_type\": \"\",\n        \"description\": \"\"\n      }\n    },\n    {\n      \"column\": \"ECGResult\",\n      \"properties\": {\n        \"dtype\": \"category\",\n        \"num_unique_values\": 2,\n        \"samples\": [\n          \"Normal\",\n          \"Abnormal\"\n        ],\n        \"semantic_type\": \"\",\n        \"description\": \"\"\n      }\n    }\n  ]\n}"
            }
          },
          "metadata": {},
          "execution_count": 63
        }
      ]
    },
    {
      "cell_type": "markdown",
      "source": [
        "**2. Estimate Parameters:**"
      ],
      "metadata": {
        "id": "hfcz18ylB8ke"
      }
    },
    {
      "cell_type": "code",
      "source": [
        "model = BayesianNetwork([\n",
        "    ('Age', 'HeartDisease'),\n",
        "    ('Smoking', 'HeartDisease'),\n",
        "    ('Exercise', 'HeartDisease'),\n",
        "    ('Cholesterol', 'HeartDisease'),\n",
        "    ('BloodPressure', 'HeartDisease'),\n",
        "    ('HeartDisease', 'ChestPain'),\n",
        "    ('HeartDisease', 'ECGResult')\n",
        "])\n",
        "\n",
        "model.fit(data, estimator=MaximumLikelihoodEstimator)\n",
        "\n",
        "for cpd in model.get_cpds():\n",
        "    print(cpd)\n",
        "    print(\"\\n\")"
      ],
      "metadata": {
        "colab": {
          "base_uri": "https://localhost:8080/"
        },
        "id": "kFUquN3k-8oJ",
        "outputId": "6ddae1fe-1136-43a6-a6cb-737e5cadfa2b"
      },
      "execution_count": 64,
      "outputs": [
        {
          "output_type": "stream",
          "name": "stdout",
          "text": [
            "+------------------+-------+\n",
            "| Age(Middle-aged) | 0.488 |\n",
            "+------------------+-------+\n",
            "| Age(Old)         | 0.221 |\n",
            "+------------------+-------+\n",
            "| Age(Young)       | 0.291 |\n",
            "+------------------+-------+\n",
            "\n",
            "\n",
            "+-------------------+---------------------+-----+-----------------------+\n",
            "| Age               | Age(Middle-aged)    | ... | Age(Young)            |\n",
            "+-------------------+---------------------+-----+-----------------------+\n",
            "| BloodPressure     | BloodPressure(High) | ... | BloodPressure(Normal) |\n",
            "+-------------------+---------------------+-----+-----------------------+\n",
            "| Cholesterol       | Cholesterol(High)   | ... | Cholesterol(Normal)   |\n",
            "+-------------------+---------------------+-----+-----------------------+\n",
            "| Exercise          | Exercise(None)      | ... | Exercise(Regular)     |\n",
            "+-------------------+---------------------+-----+-----------------------+\n",
            "| Smoking           | Smoking(No)         | ... | Smoking(Yes)          |\n",
            "+-------------------+---------------------+-----+-----------------------+\n",
            "| HeartDisease(No)  | 0.5384615384615384  | ... | 0.38095238095238093   |\n",
            "+-------------------+---------------------+-----+-----------------------+\n",
            "| HeartDisease(Yes) | 0.46153846153846156 | ... | 0.6190476190476191    |\n",
            "+-------------------+---------------------+-----+-----------------------+\n",
            "\n",
            "\n",
            "+--------------+-------+\n",
            "| Smoking(No)  | 0.695 |\n",
            "+--------------+-------+\n",
            "| Smoking(Yes) | 0.305 |\n",
            "+--------------+-------+\n",
            "\n",
            "\n",
            "+-------------------+------+\n",
            "| Exercise(None)    | 0.42 |\n",
            "+-------------------+------+\n",
            "| Exercise(Regular) | 0.58 |\n",
            "+-------------------+------+\n",
            "\n",
            "\n",
            "+---------------------+-------+\n",
            "| Cholesterol(High)   | 0.385 |\n",
            "+---------------------+-------+\n",
            "| Cholesterol(Normal) | 0.615 |\n",
            "+---------------------+-------+\n",
            "\n",
            "\n",
            "+-----------------------+-------+\n",
            "| BloodPressure(High)   | 0.303 |\n",
            "+-----------------------+-------+\n",
            "| BloodPressure(Normal) | 0.697 |\n",
            "+-----------------------+-------+\n",
            "\n",
            "\n",
            "+----------------+---------------------+---------------------+\n",
            "| HeartDisease   | HeartDisease(No)    | HeartDisease(Yes)   |\n",
            "+----------------+---------------------+---------------------+\n",
            "| ChestPain(No)  | 0.9092827004219409  | 0.19011406844106463 |\n",
            "+----------------+---------------------+---------------------+\n",
            "| ChestPain(Yes) | 0.09071729957805907 | 0.8098859315589354  |\n",
            "+----------------+---------------------+---------------------+\n",
            "\n",
            "\n",
            "+---------------------+---------------------+--------------------+\n",
            "| HeartDisease        | HeartDisease(No)    | HeartDisease(Yes)  |\n",
            "+---------------------+---------------------+--------------------+\n",
            "| ECGResult(Abnormal) | 0.14345991561181434 | 0.7091254752851711 |\n",
            "+---------------------+---------------------+--------------------+\n",
            "| ECGResult(Normal)   | 0.8565400843881856  | 0.2908745247148289 |\n",
            "+---------------------+---------------------+--------------------+\n",
            "\n",
            "\n"
          ]
        }
      ]
    },
    {
      "cell_type": "markdown",
      "source": [
        "# **Exercise 6: Network Visualization and Analysis**"
      ],
      "metadata": {
        "id": "Fi6zeXyICvF8"
      }
    },
    {
      "cell_type": "markdown",
      "source": [
        "**1. Visualize the Network:**"
      ],
      "metadata": {
        "id": "7pS_5BavCxrL"
      }
    },
    {
      "cell_type": "code",
      "source": [
        "# Step 2: Visualize the Bayesian Network using networkx\n",
        "# Convert the pgmpy model to a networkx graph\n",
        "graph = nx.DiGraph(model.edges())\n",
        "\n",
        "# Draw the graph with labels and layout\n",
        "plt.figure(figsize=(8, 6))\n",
        "pos = nx.spring_layout(graph)  # Positioning of nodes\n",
        "\n",
        "# Draw nodes\n",
        "nx.draw_networkx_nodes(graph, pos, node_color='skyblue', node_size=3000)\n",
        "\n",
        "# Draw edges\n",
        "nx.draw_networkx_edges(graph, pos, arrowstyle='->', arrowsize=20, edge_color='gray')\n",
        "\n",
        "# Add labels to the nodes\n",
        "nx.draw_networkx_labels(graph, pos, font_size=10, font_color='black', font_weight='bold')\n",
        "\n",
        "# Display the graph\n",
        "plt.title(\"Bayesian Network for Heart Disease\")\n",
        "plt.show()"
      ],
      "metadata": {
        "colab": {
          "base_uri": "https://localhost:8080/",
          "height": 521
        },
        "id": "w4-oOKv3Baw5",
        "outputId": "08997b26-1cee-4b6f-ef1e-77767d0baf71"
      },
      "execution_count": 65,
      "outputs": [
        {
          "output_type": "display_data",
          "data": {
            "text/plain": [
              "<Figure size 800x600 with 1 Axes>"
            ],
            "image/png": "[encoded data removed]"
          },
          "metadata": {}
        }
      ]
    },
    {
      "cell_type": "markdown",
      "source": [
        "**2. Sensitivity Analysis:**"
      ],
      "metadata": {
        "id": "bogDS2ZCCzNf"
      }
    },
    {
      "cell_type": "code",
      "source": [
        "query_result = inference.query(variables=['HeartDisease'], evidence={'Smoking': 1})\n",
        "print(\"Probability of Heart Disease given Smoking = Yes:\")\n",
        "print(query_result)\n",
        "\n",
        "query_result = inference.query(variables=['HeartDisease'], evidence={'Smoking': 0})\n",
        "print(\"Probability of Heart Disease given Smoking = No:\")\n",
        "print(query_result)"
      ],
      "metadata": {
        "colab": {
          "base_uri": "https://localhost:8080/"
        },
        "id": "fP4A-K5VBn7t",
        "outputId": "ebb69a63-9c63-48ff-b660-5bad339dce4b"
      },
      "execution_count": 66,
      "outputs": [
        {
          "output_type": "stream",
          "name": "stdout",
          "text": [
            "Probability of Heart Disease given Smoking = Yes:\n",
            "+-----------------+---------------------+\n",
            "| HeartDisease    |   phi(HeartDisease) |\n",
            "+=================+=====================+\n",
            "| HeartDisease(0) |              0.5330 |\n",
            "+-----------------+---------------------+\n",
            "| HeartDisease(1) |              0.4670 |\n",
            "+-----------------+---------------------+\n",
            "Probability of Heart Disease given Smoking = No:\n",
            "+-----------------+---------------------+\n",
            "| HeartDisease    |   phi(HeartDisease) |\n",
            "+=================+=====================+\n",
            "| HeartDisease(0) |              0.6475 |\n",
            "+-----------------+---------------------+\n",
            "| HeartDisease(1) |              0.3525 |\n",
            "+-----------------+---------------------+\n"
          ]
        }
      ]
    }
  ]
}