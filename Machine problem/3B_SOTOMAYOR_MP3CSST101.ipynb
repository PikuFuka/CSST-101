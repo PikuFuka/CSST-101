{
  "nbformat": 4,
  "nbformat_minor": 0,
  "metadata": {
    "colab": {
      "provenance": []
    },
    "kernelspec": {
      "name": "python3",
      "display_name": "Python 3"
    },
    "language_info": {
      "name": "python"
    }
  },
  "cells": [
    {
      "cell_type": "markdown",
      "source": [
        "# **Part 1: Implement Basic Probability Calculations**"
      ],
      "metadata": {
        "id": "0KBtEh-qH99L"
      }
    },
    {
      "cell_type": "code",
      "execution_count": null,
      "metadata": {
        "colab": {
          "base_uri": "https://localhost:8080/"
        },
        "id": "wPsuYTrMGKUJ",
        "outputId": "6543b518-d16b-44bc-f8e0-c6f29f80b0f9"
      },
      "outputs": [
        {
          "output_type": "stream",
          "name": "stdout",
          "text": [
            "Enter the probability of event A: 0.3\n",
            "Enter the probability of event B: 0.4\n",
            "Enter the conditional probability of event B given event A: 0.8\n",
            "\n",
            "Joint probability: 0.12\n",
            "Marginal probability: 0.58\n",
            "Conditional probability: 0.6\n"
          ]
        }
      ],
      "source": [
        "def joint_probability(p_A, p_B):\n",
        "  return p_A * p_B\n",
        "\n",
        "def marginal_probability(p_A, p_B):\n",
        "  return p_A + p_B - joint_probability(p_A, p_B)\n",
        "\n",
        "def conditional_probability(p_B_given_A, p_A, p_B):\n",
        "  return (p_B_given_A * p_A) / p_B\n",
        "\n",
        "p_A = float(input(\"Enter the probability of event A: \"))\n",
        "p_B = float(input(\"Enter the probability of event B: \"))\n",
        "p_B_given_A = float(input(\"Enter the conditional probability of event B given event A: \"))\n",
        "\n",
        "print(f\"\\nJoint probability: {joint_probability(p_A, p_B)}\")\n",
        "print(f\"Marginal probability: {marginal_probability(p_A, p_B)}\")\n",
        "print(f\"Conditional probability: {conditional_probability(p_B_given_A, p_A, p_B)}\")"
      ]
    },
    {
      "cell_type": "markdown",
      "source": [
        "# **Part 2: Bayesian Inference for Real-World Scenarios**"
      ],
      "metadata": {
        "id": "jFRHcHp-LIc_"
      }
    },
    {
      "cell_type": "code",
      "source": [
        "def bayesian(population, posres, test_positive):\n",
        "  diseasetest = (posres * population) / test_positive\n",
        "  return diseasetest\n",
        "\n",
        "prior_popu = float(input(\"Enter the prior probability of disease: \"))\n",
        "posres = float(input(\"Enter the likelihood of a positve test give disease: \"))\n",
        "test_positive = float(input(\"Enter the overall probability of positive test: \"))\n",
        "\n",
        "bayes = bayesian(prior_popu, posres, test_positive)\n",
        "print(f\"\\nProbability of having the disease given a positive test result: {bayes:4f}\")"
      ],
      "metadata": {
        "colab": {
          "base_uri": "https://localhost:8080/"
        },
        "id": "G2j-N0dSLLPW",
        "outputId": "1500e55f-0e5d-474a-e5ee-4f3e5210ea90"
      },
      "execution_count": null,
      "outputs": [
        {
          "output_type": "stream",
          "name": "stdout",
          "text": [
            "Enter the prior probability of disease: 0.01\n",
            "Enter the likelihood of a positve test give disease: 0.9\n",
            "Enter the overall probability of positive test: 0.05\n",
            "\n",
            "Probability of having the disease given a positive test result: 0.180000\n"
          ]
        }
      ]
    },
    {
      "cell_type": "markdown",
      "source": [
        "# **Part 3: Simulate Decision-Making Under Uncertainty**"
      ],
      "metadata": {
        "id": "RHWOIacaPiO9"
      }
    },
    {
      "cell_type": "code",
      "source": [
        "import numpy as np\n",
        "\n",
        "def investment_simulation(iterations, success_probability, reward_success, loss_failure):\n",
        "  total_profit = []\n",
        "  for _ in range(iterations):\n",
        "    if np.random.rand() < success_probability:\n",
        "      total_profit.append(reward_success)\n",
        "    else:\n",
        "      total_profit.append(loss_failure)\n",
        "  return np.mean(total_profit)\n",
        "\n",
        "# Example usage:\n",
        "iterations = 1000\n",
        "success_probability = float(input(\"Enter the probability of success: \"))\n",
        "reward_success = float(input(\"Enter the reward for success: \"))\n",
        "loss_failure = float(input(\"Enter the penalty for failure: \"))\n",
        "\n",
        "average_total_profit = investment_simulation(iterations, success_probability, reward_success, loss_failure)\n",
        "print(f\"\\nExpected value of decision: {average_total_profit}\")"
      ],
      "metadata": {
        "colab": {
          "base_uri": "https://localhost:8080/"
        },
        "id": "Xk-eA100PlMD",
        "outputId": "fbcaacd1-3743-4188-f73b-a4d8e0fc53d4"
      },
      "execution_count": null,
      "outputs": [
        {
          "output_type": "stream",
          "name": "stdout",
          "text": [
            "Enter the probability of success: 0.7\n",
            "Enter the reward for success: 1000\n",
            "Enter the penalty for failure: -500\n",
            "\n",
            "Expected value of decision: 484.0\n"
          ]
        }
      ]
    },
    {
      "cell_type": "markdown",
      "source": [
        "# **Part 4: Visualize Probability Distributions**"
      ],
      "metadata": {
        "id": "-j6gZ3YORx_G"
      }
    },
    {
      "cell_type": "code",
      "source": [
        "import numpy as np\n",
        "import matplotlib.pyplot as plt\n",
        "\n",
        "print(\"Choose a distribution to simulate\")\n",
        "print(\"1. Binomial Distribution\")\n",
        "print(\"2. Normal Distribution\")\n",
        "\n",
        "choice = int(input(\"Enter your choice (1 or 2): \"))\n",
        "\n",
        "if choice == 1:\n",
        "  #Binomial distribution\n",
        "  n_trials = int(input(\"Enter the number of coin flips: \"))\n",
        "  p_head = float(input(\"Enter the probability of getting heads: \"))\n",
        "\n",
        "  coin_flips = np.random.binomial(1, p_head, n_trials)\n",
        "\n",
        "  heads_count = np.sum(coin_flips)\n",
        "  tails_count = n_trials - heads_count\n",
        "\n",
        "  plt.bar(['Heads', 'Tails'], [heads_count, tails_count])\n",
        "  plt.xlabel('Outcome')\n",
        "  plt.ylabel('Frequency')\n",
        "  plt.title('Coin Flip Distribution')\n",
        "  plt.show()\n",
        "\n",
        "elif choice == 2:\n",
        "  #normal distribution\n",
        "  n_student = int(input(\"Enter the number of students: \"))\n",
        "  score = float(input(\"Enter the score: \"))\n",
        "  std_dev = 10\n",
        "\n",
        "  student_scores = np.random.normal(score, std_dev, n_student)\n",
        "\n",
        "  plt.hist(student_scores, bins=10, edgecolor='black')\n",
        "  plt.xlabel('Score')\n",
        "  plt.ylabel('Frequency')\n",
        "  plt.title('Student Score Distribution')\n",
        "  plt.show()"
      ],
      "metadata": {
        "colab": {
          "base_uri": "https://localhost:8080/",
          "height": 576
        },
        "id": "U1pdyZcIR1Es",
        "outputId": "8b7bbd0b-4c4d-4c78-a4db-93f06cda9139"
      },
      "execution_count": null,
      "outputs": [
        {
          "name": "stdout",
          "output_type": "stream",
          "text": [
            "Choose a distribution to simulate\n",
            "1. Binomial Distribution\n",
            "2. Normal Distribution\n",
            "Enter your choice (1 or 2): 1\n",
            "Enter the number of coin flips: 1000\n",
            "Enter the probability of getting heads: 0.5\n"
          ]
        },
        {
          "output_type": "display_data",
          "data": {
            "text/plain": [
              "<Figure size 640x480 with 1 Axes>"
            ],
            "image/png": "[encoded data removed]"
          },
          "metadata": {}
        }
      ]
    },
    {
      "cell_type": "markdown",
      "source": [
        "# **Part 5: Real-World Scenario Prediction**"
      ],
      "metadata": {
        "id": "2G2OUASBVWpJ"
      }
    },
    {
      "cell_type": "code",
      "source": [
        "humidity = float(input(\"Enter the humidity level: \"))\n",
        "cloud_cover = float(input(\"Enter the cloud cover level: \"))\n",
        "\n",
        "rainpro = conditional_probability(humidity, cloud_cover, 1)\n",
        "print(f\"The chances of raining is: {rainpro}\")"
      ],
      "metadata": {
        "colab": {
          "base_uri": "https://localhost:8080/"
        },
        "id": "oYUVjCO9VWcN",
        "outputId": "f19038ad-c68e-411f-ab73-6abb224df317"
      },
      "execution_count": null,
      "outputs": [
        {
          "output_type": "stream",
          "name": "stdout",
          "text": [
            "Enter the humidity level: 0.8\n",
            "Enter the cloud cover level: 0.6\n",
            "The chances of raining is: 0.48\n"
          ]
        }
      ]
    }
  ]
}